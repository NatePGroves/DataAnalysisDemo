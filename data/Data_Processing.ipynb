{
 "cells": [
  {
   "cell_type": "code",
   "execution_count": 60,
   "id": "5f468025-3403-4bae-84ba-59e6c7d9c17a",
   "metadata": {},
   "outputs": [],
   "source": [
    "from data_raw import raw_df as raw_df\n",
    "import pandas as pd\n",
    "import numpy as np"
   ]
  },
  {
   "cell_type": "markdown",
   "id": "28c7ab0c-ca9d-4dec-b66d-f33396b493b6",
   "metadata": {},
   "source": [
    "The link I'm using for this project is from a Kaggle Dataset [Cafe Sales Dirty Data](https://www.kaggle.com/datasets/ahmedmohamed2003/cafe-sales-dirty-data-for-cleaning-training/data). Before diving into the data, we have some information:\n",
    "* Some columns (e.g., Item, Payment Method, Location) may contain missing values represented as None or empty cells.\n",
    "* Some rows contain invalid entries like \"ERROR\" or \"UNKNOWN\"\n",
    "* Prices for menu items are consistent but may have missing or incorrect values introduced Below is the data table of the correct values for the prices:"
   ]
  },
  {
   "cell_type": "code",
   "execution_count": 61,
   "id": "e7798342-a173-4b7c-8754-3203de3c1ed5",
   "metadata": {},
   "outputs": [
    {
     "data": {
      "text/html": [
       "<div>\n",
       "<style scoped>\n",
       "    .dataframe tbody tr th:only-of-type {\n",
       "        vertical-align: middle;\n",
       "    }\n",
       "\n",
       "    .dataframe tbody tr th {\n",
       "        vertical-align: top;\n",
       "    }\n",
       "\n",
       "    .dataframe thead th {\n",
       "        text-align: right;\n",
       "    }\n",
       "</style>\n",
       "<table border=\"1\" class=\"dataframe\">\n",
       "  <thead>\n",
       "    <tr style=\"text-align: right;\">\n",
       "      <th></th>\n",
       "      <th>Item</th>\n",
       "      <th>Price Per Unit</th>\n",
       "    </tr>\n",
       "  </thead>\n",
       "  <tbody>\n",
       "    <tr>\n",
       "      <th>0</th>\n",
       "      <td>Coffee</td>\n",
       "      <td>2.0</td>\n",
       "    </tr>\n",
       "    <tr>\n",
       "      <th>1</th>\n",
       "      <td>Tea</td>\n",
       "      <td>1.5</td>\n",
       "    </tr>\n",
       "    <tr>\n",
       "      <th>2</th>\n",
       "      <td>Sandwich</td>\n",
       "      <td>4.0</td>\n",
       "    </tr>\n",
       "    <tr>\n",
       "      <th>3</th>\n",
       "      <td>Salad</td>\n",
       "      <td>5.0</td>\n",
       "    </tr>\n",
       "    <tr>\n",
       "      <th>4</th>\n",
       "      <td>Cake</td>\n",
       "      <td>3.0</td>\n",
       "    </tr>\n",
       "    <tr>\n",
       "      <th>5</th>\n",
       "      <td>Cookie</td>\n",
       "      <td>1.0</td>\n",
       "    </tr>\n",
       "    <tr>\n",
       "      <th>6</th>\n",
       "      <td>Smoothie</td>\n",
       "      <td>4.0</td>\n",
       "    </tr>\n",
       "    <tr>\n",
       "      <th>7</th>\n",
       "      <td>Juice</td>\n",
       "      <td>3.0</td>\n",
       "    </tr>\n",
       "  </tbody>\n",
       "</table>\n",
       "</div>"
      ],
      "text/plain": [
       "       Item  Price Per Unit\n",
       "0    Coffee             2.0\n",
       "1       Tea             1.5\n",
       "2  Sandwich             4.0\n",
       "3     Salad             5.0\n",
       "4      Cake             3.0\n",
       "5    Cookie             1.0\n",
       "6  Smoothie             4.0\n",
       "7     Juice             3.0"
      ]
     },
     "execution_count": 61,
     "metadata": {},
     "output_type": "execute_result"
    }
   ],
   "source": [
    "prices_dict = {\"Item\": [\"Coffee\", \"Tea\", \"Sandwich\", \"Salad\", \"Cake\", \"Cookie\", \"Smoothie\", \"Juice\"],\n",
    "             \"Price Per Unit\": [2,1.5,4,5,3,1,4,3]}\n",
    "prices_df = pd.DataFrame(prices_dict)\n",
    "prices_df"
   ]
  },
  {
   "cell_type": "code",
   "execution_count": 65,
   "id": "073b584a-7c96-46e1-a5d7-080198ff1c4e",
   "metadata": {},
   "outputs": [
    {
     "name": "stdout",
     "output_type": "stream",
     "text": [
      "<class 'pandas.core.frame.DataFrame'>\n",
      "RangeIndex: 8611 entries, 0 to 8610\n",
      "Data columns (total 9 columns):\n",
      " #   Column             Non-Null Count  Dtype  \n",
      "---  ------             --------------  -----  \n",
      " 0   Transaction ID     8611 non-null   object \n",
      " 1   Item               8611 non-null   object \n",
      " 2   Quantity           8611 non-null   object \n",
      " 3   Price Per Unit     8147 non-null   object \n",
      " 4   Total Spent        8179 non-null   object \n",
      " 5   Payment Method     5879 non-null   object \n",
      " 6   Location           5193 non-null   object \n",
      " 7   Transaction Date   8215 non-null   object \n",
      " 8   Price Per UnitPPU  8611 non-null   float64\n",
      "dtypes: float64(1), object(8)\n",
      "memory usage: 605.6+ KB\n"
     ]
    }
   ],
   "source": [
    "raw_df.info()"
   ]
  },
  {
   "cell_type": "markdown",
   "id": "c17e7767-5b2d-4775-a0f7-a54c357075ff",
   "metadata": {},
   "source": [
    "Transaction ID is the only column which has no missing values. This tracks with the information that came with the data, but we should check that each transaction has a unique ID."
   ]
  },
  {
   "cell_type": "code",
   "execution_count": 12,
   "id": "da019ad9-ccbb-465a-ba02-7f2de8f37b71",
   "metadata": {},
   "outputs": [
    {
     "data": {
      "text/plain": [
       "Transaction ID      10000\n",
       "Item                   10\n",
       "Quantity                7\n",
       "Price Per Unit          8\n",
       "Total Spent            19\n",
       "Payment Method          5\n",
       "Location                4\n",
       "Transaction Date      367\n",
       "dtype: int64"
      ]
     },
     "execution_count": 12,
     "metadata": {},
     "output_type": "execute_result"
    }
   ],
   "source": [
    "raw_df.nunique()"
   ]
  },
  {
   "cell_type": "markdown",
   "id": "162a98cb-e584-4bd0-ad3e-9d50eabf2f97",
   "metadata": {},
   "source": [
    "This confirms that each has a unique ID. Now, let's change all of the ERROR, or UNKNOWN values to NA."
   ]
  },
  {
   "cell_type": "code",
   "execution_count": 52,
   "id": "f8dbbaf3-cd45-4fc0-a2ec-901e651b0a6d",
   "metadata": {},
   "outputs": [],
   "source": [
    "raw_df.replace([\"UNKNOWN\", \"ERROR\"], np.nan, inplace=True)"
   ]
  },
  {
   "cell_type": "code",
   "execution_count": 64,
   "id": "5952ec26-8d1a-4a7c-8820-408d83c03fa4",
   "metadata": {},
   "outputs": [
    {
     "name": "stdout",
     "output_type": "stream",
     "text": [
      "<class 'pandas.core.frame.DataFrame'>\n",
      "RangeIndex: 8611 entries, 0 to 8610\n",
      "Data columns (total 9 columns):\n",
      " #   Column             Non-Null Count  Dtype  \n",
      "---  ------             --------------  -----  \n",
      " 0   Transaction ID     8611 non-null   object \n",
      " 1   Item               8611 non-null   object \n",
      " 2   Quantity           8611 non-null   object \n",
      " 3   Price Per Unit     8147 non-null   object \n",
      " 4   Total Spent        8179 non-null   object \n",
      " 5   Payment Method     5879 non-null   object \n",
      " 6   Location           5193 non-null   object \n",
      " 7   Transaction Date   8215 non-null   object \n",
      " 8   Price Per UnitPPU  8611 non-null   float64\n",
      "dtypes: float64(1), object(8)\n",
      "memory usage: 605.6+ KB\n"
     ]
    }
   ],
   "source": [
    "raw_df.info()"
   ]
  },
  {
   "cell_type": "markdown",
   "id": "63d3509c-9b0c-43b6-b3a7-893ca6436c9a",
   "metadata": {},
   "source": [
    "Now we can see that lots more of the data, was NA than we knew. Let's convert the types of values in the dataframe and make sure that all of the items are marked for the right price. If the item is saved, we can input the correct price into the price per unit column and use that and the quantity to make sure that the total spent is correct. However, since we know that the Price Per Unit column has errors, we cannot reverse engineer this process. With that being said, we cannot confirm the item or quantity based on other data, so we can drop any rows where those are missing values."
   ]
  },
  {
   "cell_type": "code",
   "execution_count": 37,
   "id": "f4948e4e-d156-4182-9047-ee90c9cff010",
   "metadata": {},
   "outputs": [],
   "source": [
    "raw_df.dropna(subset = [\"Item\", \"Quantity\"], inplace = True)"
   ]
  },
  {
   "cell_type": "code",
   "execution_count": 63,
   "id": "cd4cfb85-2173-4620-9f4c-9ee35ecb5ceb",
   "metadata": {},
   "outputs": [
    {
     "data": {
      "text/html": [
       "<div>\n",
       "<style scoped>\n",
       "    .dataframe tbody tr th:only-of-type {\n",
       "        vertical-align: middle;\n",
       "    }\n",
       "\n",
       "    .dataframe tbody tr th {\n",
       "        vertical-align: top;\n",
       "    }\n",
       "\n",
       "    .dataframe thead th {\n",
       "        text-align: right;\n",
       "    }\n",
       "</style>\n",
       "<table border=\"1\" class=\"dataframe\">\n",
       "  <thead>\n",
       "    <tr style=\"text-align: right;\">\n",
       "      <th></th>\n",
       "      <th>Transaction ID</th>\n",
       "      <th>Item</th>\n",
       "      <th>Quantity</th>\n",
       "      <th>Price Per Unit</th>\n",
       "      <th>Total Spent</th>\n",
       "      <th>Payment Method</th>\n",
       "      <th>Location</th>\n",
       "      <th>Transaction Date</th>\n",
       "      <th>Price Per UnitPPU</th>\n",
       "    </tr>\n",
       "  </thead>\n",
       "  <tbody>\n",
       "    <tr>\n",
       "      <th>0</th>\n",
       "      <td>TXN_1961373</td>\n",
       "      <td>Coffee</td>\n",
       "      <td>2</td>\n",
       "      <td>2.0</td>\n",
       "      <td>4.0</td>\n",
       "      <td>Credit Card</td>\n",
       "      <td>Takeaway</td>\n",
       "      <td>2023-09-08</td>\n",
       "      <td>2.0</td>\n",
       "    </tr>\n",
       "    <tr>\n",
       "      <th>1</th>\n",
       "      <td>TXN_4977031</td>\n",
       "      <td>Cake</td>\n",
       "      <td>4</td>\n",
       "      <td>3.0</td>\n",
       "      <td>12.0</td>\n",
       "      <td>Cash</td>\n",
       "      <td>In-store</td>\n",
       "      <td>2023-05-16</td>\n",
       "      <td>3.0</td>\n",
       "    </tr>\n",
       "    <tr>\n",
       "      <th>2</th>\n",
       "      <td>TXN_4271903</td>\n",
       "      <td>Cookie</td>\n",
       "      <td>4</td>\n",
       "      <td>1.0</td>\n",
       "      <td>NaN</td>\n",
       "      <td>Credit Card</td>\n",
       "      <td>In-store</td>\n",
       "      <td>2023-07-19</td>\n",
       "      <td>1.0</td>\n",
       "    </tr>\n",
       "    <tr>\n",
       "      <th>3</th>\n",
       "      <td>TXN_7034554</td>\n",
       "      <td>Salad</td>\n",
       "      <td>2</td>\n",
       "      <td>5.0</td>\n",
       "      <td>10.0</td>\n",
       "      <td>NaN</td>\n",
       "      <td>NaN</td>\n",
       "      <td>2023-04-27</td>\n",
       "      <td>5.0</td>\n",
       "    </tr>\n",
       "    <tr>\n",
       "      <th>4</th>\n",
       "      <td>TXN_3160411</td>\n",
       "      <td>Coffee</td>\n",
       "      <td>2</td>\n",
       "      <td>2.0</td>\n",
       "      <td>4.0</td>\n",
       "      <td>Digital Wallet</td>\n",
       "      <td>In-store</td>\n",
       "      <td>2023-06-11</td>\n",
       "      <td>2.0</td>\n",
       "    </tr>\n",
       "    <tr>\n",
       "      <th>...</th>\n",
       "      <td>...</td>\n",
       "      <td>...</td>\n",
       "      <td>...</td>\n",
       "      <td>...</td>\n",
       "      <td>...</td>\n",
       "      <td>...</td>\n",
       "      <td>...</td>\n",
       "      <td>...</td>\n",
       "      <td>...</td>\n",
       "    </tr>\n",
       "    <tr>\n",
       "      <th>8606</th>\n",
       "      <td>TXN_4766549</td>\n",
       "      <td>Smoothie</td>\n",
       "      <td>2</td>\n",
       "      <td>4.0</td>\n",
       "      <td>NaN</td>\n",
       "      <td>Cash</td>\n",
       "      <td>NaN</td>\n",
       "      <td>2023-10-20</td>\n",
       "      <td>4.0</td>\n",
       "    </tr>\n",
       "    <tr>\n",
       "      <th>8607</th>\n",
       "      <td>TXN_7672686</td>\n",
       "      <td>Coffee</td>\n",
       "      <td>2</td>\n",
       "      <td>2.0</td>\n",
       "      <td>4.0</td>\n",
       "      <td>NaN</td>\n",
       "      <td>NaN</td>\n",
       "      <td>2023-08-30</td>\n",
       "      <td>2.0</td>\n",
       "    </tr>\n",
       "    <tr>\n",
       "      <th>8608</th>\n",
       "      <td>TXN_5255387</td>\n",
       "      <td>Coffee</td>\n",
       "      <td>4</td>\n",
       "      <td>2.0</td>\n",
       "      <td>8.0</td>\n",
       "      <td>Digital Wallet</td>\n",
       "      <td>NaN</td>\n",
       "      <td>2023-03-02</td>\n",
       "      <td>2.0</td>\n",
       "    </tr>\n",
       "    <tr>\n",
       "      <th>8609</th>\n",
       "      <td>TXN_7695629</td>\n",
       "      <td>Cookie</td>\n",
       "      <td>3</td>\n",
       "      <td>NaN</td>\n",
       "      <td>3.0</td>\n",
       "      <td>Digital Wallet</td>\n",
       "      <td>NaN</td>\n",
       "      <td>2023-12-02</td>\n",
       "      <td>1.0</td>\n",
       "    </tr>\n",
       "    <tr>\n",
       "      <th>8610</th>\n",
       "      <td>TXN_6170729</td>\n",
       "      <td>Sandwich</td>\n",
       "      <td>3</td>\n",
       "      <td>4.0</td>\n",
       "      <td>12.0</td>\n",
       "      <td>Cash</td>\n",
       "      <td>In-store</td>\n",
       "      <td>2023-11-07</td>\n",
       "      <td>4.0</td>\n",
       "    </tr>\n",
       "  </tbody>\n",
       "</table>\n",
       "<p>8611 rows × 9 columns</p>\n",
       "</div>"
      ],
      "text/plain": [
       "     Transaction ID      Item Quantity Price Per Unit Total Spent  \\\n",
       "0       TXN_1961373    Coffee        2            2.0         4.0   \n",
       "1       TXN_4977031      Cake        4            3.0        12.0   \n",
       "2       TXN_4271903    Cookie        4            1.0         NaN   \n",
       "3       TXN_7034554     Salad        2            5.0        10.0   \n",
       "4       TXN_3160411    Coffee        2            2.0         4.0   \n",
       "...             ...       ...      ...            ...         ...   \n",
       "8606    TXN_4766549  Smoothie        2            4.0         NaN   \n",
       "8607    TXN_7672686    Coffee        2            2.0         4.0   \n",
       "8608    TXN_5255387    Coffee        4            2.0         8.0   \n",
       "8609    TXN_7695629    Cookie        3            NaN         3.0   \n",
       "8610    TXN_6170729  Sandwich        3            4.0        12.0   \n",
       "\n",
       "      Payment Method  Location Transaction Date  Price Per UnitPPU  \n",
       "0        Credit Card  Takeaway       2023-09-08                2.0  \n",
       "1               Cash  In-store       2023-05-16                3.0  \n",
       "2        Credit Card  In-store       2023-07-19                1.0  \n",
       "3                NaN       NaN       2023-04-27                5.0  \n",
       "4     Digital Wallet  In-store       2023-06-11                2.0  \n",
       "...              ...       ...              ...                ...  \n",
       "8606            Cash       NaN       2023-10-20                4.0  \n",
       "8607             NaN       NaN       2023-08-30                2.0  \n",
       "8608  Digital Wallet       NaN       2023-03-02                2.0  \n",
       "8609  Digital Wallet       NaN       2023-12-02                1.0  \n",
       "8610            Cash  In-store       2023-11-07                4.0  \n",
       "\n",
       "[8611 rows x 9 columns]"
      ]
     },
     "execution_count": 63,
     "metadata": {},
     "output_type": "execute_result"
    }
   ],
   "source": [
    "raw_df = raw_df.merge(prices_df, on = \"Item\", how = \"left\", suffixes = (\"\", \"PPU\"))\n",
    "raw_df"
   ]
  }
 ],
 "metadata": {
  "kernelspec": {
   "display_name": "Python 3 (ipykernel)",
   "language": "python",
   "name": "python3"
  },
  "language_info": {
   "codemirror_mode": {
    "name": "ipython",
    "version": 3
   },
   "file_extension": ".py",
   "mimetype": "text/x-python",
   "name": "python",
   "nbconvert_exporter": "python",
   "pygments_lexer": "ipython3",
   "version": "3.12.6"
  }
 },
 "nbformat": 4,
 "nbformat_minor": 5
}
